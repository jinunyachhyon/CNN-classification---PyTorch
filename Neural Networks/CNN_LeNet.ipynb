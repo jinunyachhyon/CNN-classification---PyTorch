{
  "nbformat": 4,
  "nbformat_minor": 0,
  "metadata": {
    "colab": {
      "provenance": []
    },
    "kernelspec": {
      "name": "python3",
      "display_name": "Python 3"
    },
    "language_info": {
      "name": "python"
    }
  },
  "cells": [
    {
      "cell_type": "code",
      "execution_count": 31,
      "metadata": {
        "id": "yAi7ps5N4aFe"
      },
      "outputs": [],
      "source": [
        "import torch\n",
        "import torch.nn as nn\n",
        "import torch.optim as optim\n",
        "import numpy as np\n",
        "import torchvision\n",
        "from torchvision import datasets, models, transforms\n",
        "import matplotlib.pyplot as plt\n",
        "import torch.nn.functional as F\n",
        "import os"
      ]
    },
    {
      "cell_type": "code",
      "source": [
        "# random seed --> reproducibility\n",
        "import random\n",
        "random.seed(42)\n",
        "torch.manual_seed(42)"
      ],
      "metadata": {
        "colab": {
          "base_uri": "https://localhost:8080/"
        },
        "id": "a9I8ydCx4qhr",
        "outputId": "c7aeee90-152c-4486-d72a-149df5c2cdc3"
      },
      "execution_count": 32,
      "outputs": [
        {
          "output_type": "execute_result",
          "data": {
            "text/plain": [
              "<torch._C.Generator at 0x7efe1e98b6b0>"
            ]
          },
          "metadata": {},
          "execution_count": 32
        }
      ]
    },
    {
      "cell_type": "code",
      "source": [
        "# transforms\n",
        "data_transforms = {\n",
        "    'train': transforms.Compose([\n",
        "    transforms.Resize((224, 224)),\n",
        "    transforms.RandomHorizontalFlip(),\n",
        "    transforms.ToTensor(),\n",
        "    transforms.Normalize((0.5,0.5,0.5),(0.5,0.5,0.5))]),\n",
        "\n",
        "    'test': transforms.Compose([\n",
        "    transforms.Resize((224, 224)),\n",
        "    transforms.RandomHorizontalFlip(),\n",
        "    transforms.ToTensor(),\n",
        "    transforms.Normalize((0.5,0.5,0.5),(0.5,0.5,0.5))])\n",
        "}"
      ],
      "metadata": {
        "id": "ONI2Rq4B-bfL"
      },
      "execution_count": 33,
      "outputs": []
    },
    {
      "cell_type": "code",
      "source": [
        "# import data\n",
        "data_dir = '/content/drive/MyDrive/chest_xray'\n",
        "sets = ['train','test']\n",
        "image_datasets = {x:datasets.ImageFolder(os.path.join(data_dir, x),\n",
        "                                         data_transforms[x])\n",
        "                  for x in ['train', 'test']}    "
      ],
      "metadata": {
        "id": "Co7poJVN74lE"
      },
      "execution_count": 34,
      "outputs": []
    },
    {
      "cell_type": "code",
      "source": [
        "image_datasets"
      ],
      "metadata": {
        "colab": {
          "base_uri": "https://localhost:8080/"
        },
        "id": "g95CtUSj9yRZ",
        "outputId": "f82f8c3e-f63d-4956-f285-caeb72a76545"
      },
      "execution_count": 35,
      "outputs": [
        {
          "output_type": "execute_result",
          "data": {
            "text/plain": [
              "{'train': Dataset ImageFolder\n",
              "     Number of datapoints: 5216\n",
              "     Root location: /content/drive/MyDrive/chest_xray/train\n",
              "     StandardTransform\n",
              " Transform: Compose(\n",
              "                Resize(size=(224, 224), interpolation=bilinear, max_size=None, antialias=warn)\n",
              "                RandomHorizontalFlip(p=0.5)\n",
              "                ToTensor()\n",
              "                Normalize(mean=(0.5, 0.5, 0.5), std=(0.5, 0.5, 0.5))\n",
              "            ),\n",
              " 'test': Dataset ImageFolder\n",
              "     Number of datapoints: 624\n",
              "     Root location: /content/drive/MyDrive/chest_xray/test\n",
              "     StandardTransform\n",
              " Transform: Compose(\n",
              "                Resize(size=(224, 224), interpolation=bilinear, max_size=None, antialias=warn)\n",
              "                RandomHorizontalFlip(p=0.5)\n",
              "                ToTensor()\n",
              "                Normalize(mean=(0.5, 0.5, 0.5), std=(0.5, 0.5, 0.5))\n",
              "            )}"
            ]
          },
          "metadata": {},
          "execution_count": 35
        }
      ]
    },
    {
      "cell_type": "code",
      "source": [
        "train_dataset = image_datasets['train']\n",
        "test_dataset = image_datasets['test']"
      ],
      "metadata": {
        "id": "_XN5O02E90oN"
      },
      "execution_count": 36,
      "outputs": []
    },
    {
      "cell_type": "code",
      "source": [
        "train_dataset"
      ],
      "metadata": {
        "colab": {
          "base_uri": "https://localhost:8080/"
        },
        "id": "_H_Tl8C9FuQG",
        "outputId": "c71bf3af-8347-4003-cee4-a7a4ebe51694"
      },
      "execution_count": 37,
      "outputs": [
        {
          "output_type": "execute_result",
          "data": {
            "text/plain": [
              "Dataset ImageFolder\n",
              "    Number of datapoints: 5216\n",
              "    Root location: /content/drive/MyDrive/chest_xray/train\n",
              "    StandardTransform\n",
              "Transform: Compose(\n",
              "               Resize(size=(224, 224), interpolation=bilinear, max_size=None, antialias=warn)\n",
              "               RandomHorizontalFlip(p=0.5)\n",
              "               ToTensor()\n",
              "               Normalize(mean=(0.5, 0.5, 0.5), std=(0.5, 0.5, 0.5))\n",
              "           )"
            ]
          },
          "metadata": {},
          "execution_count": 37
        }
      ]
    },
    {
      "cell_type": "code",
      "source": [
        "# create DataLoader object\n",
        "train_loader = torch.utils.data.DataLoader(train_dataset,\n",
        "                                           batch_size = 32,\n",
        "                                           shuffle=True)\n",
        "\n",
        "test_loader = torch.utils.data.DataLoader(test_dataset,\n",
        "                                           batch_size = 32,\n",
        "                                           shuffle=False)"
      ],
      "metadata": {
        "id": "8CQCl6x-Fw0o"
      },
      "execution_count": 38,
      "outputs": []
    },
    {
      "cell_type": "code",
      "source": [
        "## Size evaluation \n",
        "iterator = iter(train_loader)\n",
        "sample, lable = next(iterator)\n",
        "sample"
      ],
      "metadata": {
        "id": "-zZX4Kd8OLh6"
      },
      "execution_count": null,
      "outputs": []
    },
    {
      "cell_type": "code",
      "source": [
        "sample.shape"
      ],
      "metadata": {
        "colab": {
          "base_uri": "https://localhost:8080/"
        },
        "id": "93hPe21MPXhp",
        "outputId": "705835cf-2ee0-4712-929f-35483ab0f1c6"
      },
      "execution_count": 40,
      "outputs": [
        {
          "output_type": "execute_result",
          "data": {
            "text/plain": [
              "torch.Size([32, 3, 224, 224])"
            ]
          },
          "metadata": {},
          "execution_count": 40
        }
      ]
    },
    {
      "cell_type": "code",
      "source": [
        "conv1 = nn.Conv2d(3,6,25,stride=2) #first cnn\n",
        "maxpool = nn.MaxPool2d(2,2) #maxpool\n",
        "conv2 = nn.Conv2d(6,16,25,stride=2) #second cnn\n",
        "\n",
        "#cnn layer1\n",
        "x = conv1(sample)\n",
        "print(x.shape)\n",
        "x = maxpool(x)\n",
        "print(x.shape)\n",
        "\n",
        "#cnn layer2\n",
        "x = conv2(x)\n",
        "print(x.shape)\n",
        "x = maxpool(x)\n",
        "print(x.shape)"
      ],
      "metadata": {
        "colab": {
          "base_uri": "https://localhost:8080/"
        },
        "id": "wilEgw9sPd0n",
        "outputId": "ab476262-8578-446f-d605-1372b181e6c6"
      },
      "execution_count": 67,
      "outputs": [
        {
          "output_type": "stream",
          "name": "stdout",
          "text": [
            "torch.Size([32, 6, 100, 100])\n",
            "torch.Size([32, 6, 50, 50])\n",
            "torch.Size([32, 16, 13, 13])\n",
            "torch.Size([32, 16, 6, 6])\n"
          ]
        }
      ]
    },
    {
      "cell_type": "code",
      "source": [
        "class LeNet(nn.Module):\n",
        "  def __init__(self):\n",
        "    super(LeNet, self).__init__()\n",
        "\n",
        "    self.conv1 = nn.Conv2d(in_channels=3,\n",
        "                           out_channels=6,\n",
        "                           kernel_size=25,\n",
        "                           stride=2)\n",
        "    self.conv2 = nn.Conv2d(in_channels=6,\n",
        "                           out_channels=16,\n",
        "                           kernel_size=25,\n",
        "                           stride=2)\n",
        "    \n",
        "    self.fc_1 = nn.Linear(16*6*6, 120)\n",
        "    self.fc_2 = nn.Linear(120, 84)\n",
        "    self.fc_3 = nn.Linear(84, 2)\n",
        "\n",
        "  def forward(self, x):\n",
        "    # conv layer 1\n",
        "    x = self.conv1(x)\n",
        "    x = F.max_pool2d(x, kernel_size=2)\n",
        "    x = F.relu(x)\n",
        "\n",
        "    # conv layer 2\n",
        "    x = self.conv2(x)\n",
        "    x = F.max_pool2d(x, kernel_size=2)\n",
        "    x = F.relu(x)\n",
        "\n",
        "    # flatten for input -- linear layer\n",
        "    x = x.view(-1, 16*6*6)\n",
        "\n",
        "    # fully connected layer 1\n",
        "    x = self.fc_1(x)\n",
        "    x = F.relu(x)\n",
        "\n",
        "    # fully connected layer 2\n",
        "    x = self.fc_2(x)\n",
        "    x = F.relu(x)\n",
        "\n",
        "    # fully connected layer 3\n",
        "    x = self.fc_3(x)\n",
        "\n",
        "    return x"
      ],
      "metadata": {
        "id": "_mTD20AMCaC6"
      },
      "execution_count": 68,
      "outputs": []
    },
    {
      "cell_type": "code",
      "source": [
        "# instance of the model\n",
        "model = LeNet()"
      ],
      "metadata": {
        "id": "WZevQIfMryOF"
      },
      "execution_count": 69,
      "outputs": []
    },
    {
      "cell_type": "code",
      "source": [
        "def count_parameters(model):\n",
        "    return sum(p.numel() for p in model.parameters() if p.requires_grad)\n",
        "\n",
        "\n",
        "print(f'The model has {count_parameters(model):,} trainable parameters')"
      ],
      "metadata": {
        "colab": {
          "base_uri": "https://localhost:8080/"
        },
        "id": "5_aooyw-r6fa",
        "outputId": "fcfb7c21-e757-4681-a030-a1bfb0328c51"
      },
      "execution_count": 70,
      "outputs": [
        {
          "output_type": "stream",
          "name": "stdout",
          "text": [
            "The model has 150,846 trainable parameters\n"
          ]
        }
      ]
    },
    {
      "cell_type": "code",
      "source": [
        "# loss and optimizer\n",
        "criterion = nn.CrossEntropyLoss()\n",
        "optimizer = optim.Adam(model.parameters(), lr=0.001)"
      ],
      "metadata": {
        "id": "nATqDSfSsjX0"
      },
      "execution_count": 71,
      "outputs": []
    },
    {
      "cell_type": "code",
      "source": [
        "model"
      ],
      "metadata": {
        "colab": {
          "base_uri": "https://localhost:8080/"
        },
        "id": "c4uVd07ytFM4",
        "outputId": "1a86c123-96d8-4fb5-cf2f-3d68193d01e8"
      },
      "execution_count": 72,
      "outputs": [
        {
          "output_type": "execute_result",
          "data": {
            "text/plain": [
              "LeNet(\n",
              "  (conv1): Conv2d(3, 6, kernel_size=(25, 25), stride=(2, 2))\n",
              "  (conv2): Conv2d(6, 16, kernel_size=(25, 25), stride=(2, 2))\n",
              "  (fc_1): Linear(in_features=576, out_features=120, bias=True)\n",
              "  (fc_2): Linear(in_features=120, out_features=84, bias=True)\n",
              "  (fc_3): Linear(in_features=84, out_features=2, bias=True)\n",
              ")"
            ]
          },
          "metadata": {},
          "execution_count": 72
        }
      ]
    },
    {
      "cell_type": "markdown",
      "source": [
        "# training loop\n"
      ],
      "metadata": {
        "id": "4l--7RFbYGDO"
      }
    },
    {
      "cell_type": "code",
      "source": [
        "# total iteration\n",
        "len(train_loader)"
      ],
      "metadata": {
        "colab": {
          "base_uri": "https://localhost:8080/"
        },
        "id": "tYQc4zisS8gf",
        "outputId": "903410cc-28ed-4471-bb42-5b3078a8e754"
      },
      "execution_count": 73,
      "outputs": [
        {
          "output_type": "execute_result",
          "data": {
            "text/plain": [
              "163"
            ]
          },
          "metadata": {},
          "execution_count": 73
        }
      ]
    },
    {
      "cell_type": "code",
      "source": [
        "total_batches = len(train_loader)\n",
        "\n",
        "for epoch in range(10):\n",
        "    for i , (images, labels) in enumerate(train_loader):\n",
        "        \n",
        "        # forward pass\n",
        "        outputs = model(images)\n",
        "        loss = criterion(outputs, labels)\n",
        "        \n",
        "        # backward pass\n",
        "        optimizer.zero_grad()\n",
        "        loss.backward()\n",
        "        optimizer.step()\n",
        "        \n",
        "        if (i+1) % 100 == 0:\n",
        "            print(f'Epoch [{epoch+1}/{10}], step [{i+1}/{total_batches}], loss:{loss.item():.4f}')\n",
        "            \n",
        "print('Finished Training')    "
      ],
      "metadata": {
        "id": "ZMd2zkEgL7AU",
        "colab": {
          "base_uri": "https://localhost:8080/"
        },
        "outputId": "e583e33d-7131-4b15-dabc-04743d4340ad"
      },
      "execution_count": 74,
      "outputs": [
        {
          "output_type": "stream",
          "name": "stdout",
          "text": [
            "Epoch [1/4], step [100/163], loss:0.3324\n",
            "Epoch [2/4], step [100/163], loss:0.2130\n",
            "Epoch [3/4], step [100/163], loss:0.0681\n",
            "Epoch [4/4], step [100/163], loss:0.0126\n",
            "Epoch [5/4], step [100/163], loss:0.4231\n",
            "Epoch [6/4], step [100/163], loss:0.0695\n",
            "Epoch [7/4], step [100/163], loss:0.1367\n",
            "Epoch [8/4], step [100/163], loss:0.0540\n",
            "Epoch [9/4], step [100/163], loss:0.0233\n",
            "Epoch [10/4], step [100/163], loss:0.1059\n",
            "Finished Training\n"
          ]
        }
      ]
    },
    {
      "cell_type": "code",
      "source": [
        "# save this model\n",
        "torch.save(model.state_dict(), 'modelLeNet.pth')"
      ],
      "metadata": {
        "id": "NWHn_TzdNz6U"
      },
      "execution_count": 75,
      "outputs": []
    },
    {
      "cell_type": "code",
      "source": [
        "# evaluation and testing \n",
        "with torch.no_grad():\n",
        "    n_correct =0\n",
        "    n_samples =0\n",
        "    \n",
        "    for images, labels in test_loader:\n",
        "        # forward -- softmax prediction \n",
        "        outputs = model(images)\n",
        "        \n",
        "        # actual prediction\n",
        "        # value, index\n",
        "        _, predictions = torch.max(outputs, 1) # multiclass pred\n",
        "        n_samples += labels.shape[0]\n",
        "        n_correct += (predictions==labels).sum().item()\n",
        "        \n",
        "    acc = 100.0 * n_correct / n_samples\n",
        "    print(acc)"
      ],
      "metadata": {
        "colab": {
          "base_uri": "https://localhost:8080/"
        },
        "id": "9Y461xI4nMfA",
        "outputId": "09ae3ee4-8f8c-42a9-8a23-3dc7f3ee7e40"
      },
      "execution_count": 76,
      "outputs": [
        {
          "output_type": "stream",
          "name": "stdout",
          "text": [
            "76.76282051282051\n"
          ]
        }
      ]
    },
    {
      "cell_type": "code",
      "source": [
        "from torchsummary import summary\n",
        "summary(model,(3,224,224))"
      ],
      "metadata": {
        "colab": {
          "base_uri": "https://localhost:8080/"
        },
        "id": "1m8AK4mCqv0Y",
        "outputId": "d23509cd-ff91-452b-b11d-f17d8e9a2cf0"
      },
      "execution_count": 96,
      "outputs": [
        {
          "output_type": "stream",
          "name": "stdout",
          "text": [
            "----------------------------------------------------------------\n",
            "        Layer (type)               Output Shape         Param #\n",
            "================================================================\n",
            "            Conv2d-1          [-1, 6, 100, 100]          11,256\n",
            "            Conv2d-2           [-1, 16, 13, 13]          60,016\n",
            "            Linear-3                  [-1, 120]          69,240\n",
            "            Linear-4                   [-1, 84]          10,164\n",
            "            Linear-5                    [-1, 2]             170\n",
            "================================================================\n",
            "Total params: 150,846\n",
            "Trainable params: 150,846\n",
            "Non-trainable params: 0\n",
            "----------------------------------------------------------------\n",
            "Input size (MB): 0.57\n",
            "Forward/backward pass size (MB): 0.48\n",
            "Params size (MB): 0.58\n",
            "Estimated Total Size (MB): 1.63\n",
            "----------------------------------------------------------------\n"
          ]
        }
      ]
    },
    {
      "cell_type": "code",
      "source": [],
      "metadata": {
        "id": "MbpSxtPq0UfZ"
      },
      "execution_count": null,
      "outputs": []
    }
  ]
}